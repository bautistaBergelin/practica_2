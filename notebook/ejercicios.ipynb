{
  "cells": [
    {
      "cell_type": "code",
      "execution_count": 1,
      "id": "66927645-5f3c-47c5-a661-65d7f1c220c3",
      "metadata": {
        "trusted": true
      },
      "outputs": [],
      "source": [
        "#importamos los modulos\n",
        "import sys\n",
        "import os\n",
        "\n",
        "sys.path.append(os.path.abspath(\"../src\"))\n",
        "from funciones import *\n"
      ]
    },
    {
      "cell_type": "code",
      "execution_count": 2,
      "id": "9ff0cc22-7aba-4010-b377-90168ee0fb2e",
      "metadata": {
        "trusted": true
      },
      "outputs": [
        {
          "name": "stdout",
          "output_type": "stream",
          "text": [
            "Beautiful is better than ugly.\n",
            "Explicit is better than implicit.\n",
            "Simple is better than complex.\n",
            "Complex is better than complicated.\n",
            "Flat is better than nested.\n",
            "Sparse is better than dense.\n",
            "Unless explicitly silenced.\n",
            "Now is better than never.\n",
            "Namespaces are one honking great idea -- let's do more of those!.\n"
          ]
        }
      ],
      "source": [
        "\n",
        "import funciones\n",
        "\n",
        "zen_text=\"\"\"Beautiful is better than ugly.\n",
        "Explicit is better than implicit.\n",
        "Simple is better than complex.\n",
        "Complex is better than complicated.\n",
        "Flat is better than nested.\n",
        "Sparse is better than dense.\n",
        "Readability counts.s\n",
        "Special cases aren't special enough to break the rules.\n",
        "Although practicality beats purity.\n",
        "Errors should never pass silently.\n",
        "Unless explicitly silenced.\n",
        "In the face of ambiguity, refuse the temptation to guess.\n",
        "There should be one-- and preferably only one --obvious way to do it.\n",
        "Although that way may not be obvious at first unless you're Dutch.\n",
        "Now is better than never.\n",
        "Although never is often better than *right* now.\n",
        "If the implementation is hard to explain, it's a bad idea.\n",
        "If the implementation is easy to explain, it may be a good idea.\n",
        "Namespaces are one honking great idea -- let's do more of those!.\"\"\"\n",
        "\n",
        "#se imprimen las oraciones con que su 2da palabra empiece con vocal\n",
        "funciones.imprimir_oracion(zen_text)"
      ]
    },
    {
      "cell_type": "code",
      "execution_count": 3,
      "id": "95e92688-ee39-47e1-81b4-1c10e9a18686",
      "metadata": {
        "trusted": true
      },
      "outputs": [
        {
          "name": "stdout",
          "output_type": "stream",
          "text": [
            "el titulo mas largo es: Jugando al nuevo FPS del momento con amigos\n"
          ]
        }
      ],
      "source": [
        "import funciones\n",
        "titles = [\"Speedrun de Super Mario en tiempo récord\",\n",
        "        \"Charla sobre desarrollo de videojuegos\",\n",
        "        \"Jugando al nuevo FPS del momento con amigos\",\n",
        "        \"Música en vivo: improvisaciones al piano\"]\n",
        "print(F\"el titulo mas largo es: {funciones.imprimir_tituloMax(titles)}\")"
      ]
    },
    {
      "cell_type": "code",
      "execution_count": 4,
      "id": "6193a47a",
      "metadata": {},
      "outputs": [
        {
          "name": "stdout",
          "output_type": "stream",
          "text": [
            "ronda 1\n",
            "-------------------------\n",
            "jugadores Kills Asistencias muerte Mvps puntaje\n",
            "Shadow 2 1 1 6\n",
            "Viper 1 2 0 4\n",
            "Reaper 1 1 0 4\n",
            "Blaze 1 0 0 3\n",
            "Frost 0 1 0 1\n",
            "ronda 2\n",
            "-------------------------\n",
            "jugadores Kills Asistencias muerte Mvps puntaje\n",
            "Frost 2 1 1 6\n",
            "Blaze 2 0 0 5\n",
            "Viper 1 1 0 4\n",
            "Shadow 0 2 1 2\n",
            "Reaper 0 1 0 1\n",
            "ronda 3\n",
            "-------------------------\n",
            "jugadores Kills Asistencias muerte Mvps puntaje\n",
            "Blaze 2 2 1 7\n",
            "Reaper 1 1 0 4\n",
            "Shadow 1 0 1 3\n",
            "Viper 1 1 0 3\n",
            "Frost 0 1 1 1\n",
            "ronda 4\n",
            "-------------------------\n",
            "jugadores Kills Asistencias muerte Mvps puntaje\n",
            "Shadow 2 1 2 7\n",
            "Reaper 1 1 0 4\n",
            "Frost 1 1 1 3\n",
            "Blaze 1 0 1 2\n",
            "Viper 0 2 0 2\n",
            "ronda 5\n",
            "-------------------------\n",
            "jugadores Kills Asistencias muerte Mvps puntaje\n",
            "Viper 2 0 1 5\n",
            "Shadow 1 2 2 4\n",
            "Frost 1 1 1 4\n",
            "Reaper 1 1 0 3\n",
            "Blaze 0 1 1 1\n",
            "ranking final\n",
            "-------------------------\n"
          ]
        },
        {
          "ename": "TypeError",
          "evalue": "string indices must be integers, not 'str'",
          "output_type": "error",
          "traceback": [
            "\u001b[31m---------------------------------------------------------------------------\u001b[39m",
            "\u001b[31mTypeError\u001b[39m                                 Traceback (most recent call last)",
            "\u001b[36mCell\u001b[39m\u001b[36m \u001b[39m\u001b[32mIn[4]\u001b[39m\u001b[32m, line 41\u001b[39m\n\u001b[32m      1\u001b[39m \u001b[38;5;28;01mimport\u001b[39;00m\u001b[38;5;250m \u001b[39m\u001b[34;01mfunciones\u001b[39;00m\n\u001b[32m      3\u001b[39m rounds =  [\n\u001b[32m      4\u001b[39m {\n\u001b[32m      5\u001b[39m \u001b[33m'\u001b[39m\u001b[33mShadow\u001b[39m\u001b[33m'\u001b[39m: {\u001b[33m'\u001b[39m\u001b[33mkills\u001b[39m\u001b[33m'\u001b[39m: \u001b[32m2\u001b[39m, \u001b[33m'\u001b[39m\u001b[33massists\u001b[39m\u001b[33m'\u001b[39m: \u001b[32m1\u001b[39m, \u001b[33m'\u001b[39m\u001b[33mdeaths\u001b[39m\u001b[33m'\u001b[39m: \u001b[38;5;28;01mTrue\u001b[39;00m},\n\u001b[32m   (...)\u001b[39m\u001b[32m     38\u001b[39m }\n\u001b[32m     39\u001b[39m ]\n\u001b[32m---> \u001b[39m\u001b[32m41\u001b[39m \u001b[43mfunciones\u001b[49m\u001b[43m.\u001b[49m\u001b[43mimprimir_ejercicio10\u001b[49m\u001b[43m(\u001b[49m\u001b[43mrounds\u001b[49m\u001b[43m)\u001b[49m\n",
            "\u001b[36mFile \u001b[39m\u001b[32mc:\\Users\\bau\\Documents\\facultad\\seminario_pyton\\practica_2\\src\\funciones.py:53\u001b[39m, in \u001b[36mimprimir_ejercicio10\u001b[39m\u001b[34m(rounds)\u001b[39m\n\u001b[32m     51\u001b[39m     imprimir_round(\u001b[38;5;28mround\u001b[39m.items(),mvps)\n\u001b[32m     52\u001b[39m \u001b[38;5;28mprint\u001b[39m(\u001b[33m\"\u001b[39m\u001b[33mranking final\u001b[39m\u001b[33m\"\u001b[39m) \n\u001b[32m---> \u001b[39m\u001b[32m53\u001b[39m \u001b[43mimprimir_round\u001b[49m\u001b[43m(\u001b[49m\u001b[43mcontador_total\u001b[49m\u001b[43m,\u001b[49m\u001b[43mmvps\u001b[49m\u001b[43m)\u001b[49m\n",
            "\u001b[36mFile \u001b[39m\u001b[32mc:\\Users\\bau\\Documents\\facultad\\seminario_pyton\\practica_2\\src\\funciones.py:23\u001b[39m, in \u001b[36mimprimir_round\u001b[39m\u001b[34m(jugadores, mvps)\u001b[39m\n\u001b[32m     21\u001b[39m \u001b[38;5;28;01mdef\u001b[39;00m\u001b[38;5;250m \u001b[39m\u001b[34mimprimir_round\u001b[39m(jugadores, mvps):\n\u001b[32m     22\u001b[39m     \u001b[38;5;28mprint\u001b[39m(\u001b[33m'\u001b[39m\u001b[33m-\u001b[39m\u001b[33m'\u001b[39m*\u001b[32m25\u001b[39m)\n\u001b[32m---> \u001b[39m\u001b[32m23\u001b[39m     jugadores_ordenados = \u001b[38;5;28;43msorted\u001b[39;49m\u001b[43m(\u001b[49m\u001b[43mjugadores\u001b[49m\u001b[43m,\u001b[49m\u001b[43m \u001b[49m\u001b[43mkey\u001b[49m\u001b[43m=\u001b[49m\u001b[38;5;28;43;01mlambda\u001b[39;49;00m\u001b[43m \u001b[49m\u001b[43mitem\u001b[49m\u001b[43m:\u001b[49m\u001b[43m \u001b[49m\u001b[43mitem\u001b[49m\u001b[43m[\u001b[49m\u001b[32;43m1\u001b[39;49m\u001b[43m]\u001b[49m\u001b[43m[\u001b[49m\u001b[33;43m'\u001b[39;49m\u001b[33;43mpoints\u001b[39;49m\u001b[33;43m'\u001b[39;49m\u001b[43m]\u001b[49m\u001b[43m,\u001b[49m\u001b[43m \u001b[49m\u001b[43mreverse\u001b[49m\u001b[43m=\u001b[49m\u001b[38;5;28;43;01mTrue\u001b[39;49;00m\u001b[43m)\u001b[49m\n\u001b[32m     24\u001b[39m     \u001b[38;5;28mprint\u001b[39m(\u001b[33mf\u001b[39m\u001b[33m\"\u001b[39m\u001b[33mjugadores Kills Asistencias muerte Mvps puntaje\u001b[39m\u001b[33m\"\u001b[39m.center(\u001b[32m10\u001b[39m))\n\u001b[32m     25\u001b[39m     \u001b[38;5;28;01mfor\u001b[39;00m jugador,dato \u001b[38;5;129;01min\u001b[39;00m jugadores_ordenados:\n",
            "\u001b[36mFile \u001b[39m\u001b[32mc:\\Users\\bau\\Documents\\facultad\\seminario_pyton\\practica_2\\src\\funciones.py:23\u001b[39m, in \u001b[36mimprimir_round.<locals>.<lambda>\u001b[39m\u001b[34m(item)\u001b[39m\n\u001b[32m     21\u001b[39m \u001b[38;5;28;01mdef\u001b[39;00m\u001b[38;5;250m \u001b[39m\u001b[34mimprimir_round\u001b[39m(jugadores, mvps):\n\u001b[32m     22\u001b[39m     \u001b[38;5;28mprint\u001b[39m(\u001b[33m'\u001b[39m\u001b[33m-\u001b[39m\u001b[33m'\u001b[39m*\u001b[32m25\u001b[39m)\n\u001b[32m---> \u001b[39m\u001b[32m23\u001b[39m     jugadores_ordenados = \u001b[38;5;28msorted\u001b[39m(jugadores, key=\u001b[38;5;28;01mlambda\u001b[39;00m item: \u001b[43mitem\u001b[49m\u001b[43m[\u001b[49m\u001b[32;43m1\u001b[39;49m\u001b[43m]\u001b[49m\u001b[43m[\u001b[49m\u001b[33;43m'\u001b[39;49m\u001b[33;43mpoints\u001b[39;49m\u001b[33;43m'\u001b[39;49m\u001b[43m]\u001b[49m, reverse=\u001b[38;5;28;01mTrue\u001b[39;00m)\n\u001b[32m     24\u001b[39m     \u001b[38;5;28mprint\u001b[39m(\u001b[33mf\u001b[39m\u001b[33m\"\u001b[39m\u001b[33mjugadores Kills Asistencias muerte Mvps puntaje\u001b[39m\u001b[33m\"\u001b[39m.center(\u001b[32m10\u001b[39m))\n\u001b[32m     25\u001b[39m     \u001b[38;5;28;01mfor\u001b[39;00m jugador,dato \u001b[38;5;129;01min\u001b[39;00m jugadores_ordenados:\n",
            "\u001b[31mTypeError\u001b[39m: string indices must be integers, not 'str'"
          ]
        }
      ],
      "source": [
        "import funciones\n",
        "\n",
        "rounds =  [\n",
        "{\n",
        "'Shadow': {'kills': 2, 'assists': 1, 'deaths': True},\n",
        "'Blaze': {'kills': 1, 'assists': 0, 'deaths': False},\n",
        "'Viper': {'kills': 1, 'assists': 2, 'deaths': True},\n",
        "'Frost': {'kills': 0, 'assists': 1, 'deaths': False},\n",
        "'Reaper': {'kills': 1, 'assists': 1, 'deaths': False}\n",
        "},\n",
        "{\n",
        "'Shadow': {'kills': 0, 'assists': 2, 'deaths': False},\n",
        "'Blaze': {'kills': 2, 'assists': 0, 'deaths': True},\n",
        "'Viper': {'kills': 1, 'assists': 1, 'deaths': False},\n",
        "'Frost': {'kills': 2, 'assists': 1, 'deaths': True},\n",
        "'Reaper': {'kills': 0, 'assists': 1, 'deaths': False}\n",
        "},\n",
        "{\n",
        "'Shadow': {'kills': 1, 'assists': 0, 'deaths': False},\n",
        "'Blaze': {'kills': 2, 'assists': 2, 'deaths': True},\n",
        "'Viper': {'kills': 1, 'assists': 1, 'deaths': True},\n",
        "'Frost': {'kills': 0, 'assists': 1, 'deaths': False},\n",
        "'Reaper': {'kills': 1, 'assists': 1, 'deaths': False}\n",
        "},\n",
        "{\n",
        "'Shadow': {'kills': 2, 'assists': 1, 'deaths': False},\n",
        "'Blaze': {'kills': 1, 'assists': 0, 'deaths': True},\n",
        "'Viper': {'kills': 0, 'assists': 2, 'deaths': False},\n",
        "'Frost': {'kills': 1, 'assists': 1, 'deaths': True},\n",
        "'Reaper': {'kills': 1, 'assists': 1, 'deaths': False}\n",
        "},\n",
        "{\n",
        "'Shadow': {'kills': 1, 'assists': 2, 'deaths': True},\n",
        "'Blaze': {'kills': 0, 'assists': 1, 'deaths': False},\n",
        "'Viper': {'kills': 2, 'assists': 0, 'deaths': True},\n",
        "'Frost': {'kills': 1, 'assists': 1, 'deaths': False},\n",
        "'Reaper': {'kills': 1, 'assists': 1, 'deaths': True}\n",
        "}\n",
        "]\n",
        "\n",
        "funciones.imprimir_ejercicio10(rounds)\n",
        "\n"
      ]
    }
  ],
  "metadata": {
    "kernelspec": {
      "display_name": ".venv",
      "language": "python",
      "name": "python3"
    },
    "language_info": {
      "codemirror_mode": {
        "name": "ipython",
        "version": 3
      },
      "file_extension": ".py",
      "mimetype": "text/x-python",
      "name": "python",
      "nbconvert_exporter": "python",
      "pygments_lexer": "ipython3",
      "version": "3.12.9"
    }
  },
  "nbformat": 4,
  "nbformat_minor": 5
}
